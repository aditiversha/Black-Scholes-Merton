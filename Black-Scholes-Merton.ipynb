{
 "cells": [
  {
   "cell_type": "markdown",
   "metadata": {},
   "source": [
    "## Black-Scholes-Merton"
   ]
  },
  {
   "cell_type": "markdown",
   "metadata": {},
   "source": [
    "<b>What is the Black-Scholes-Merton Model?</b>\n",
    "- The Black-Scholes-Merton (BSM) model is a pricing model for financial instruments. It is used for the valuation of stock options. The BSM model is used to determine the fair prices of stock options based on six variables: volatility, type, underlying stock price, strike price, time, and risk-free rate. It is based on the principle of hedging and focuses on eliminating risks associated with the volatility of underlying assets and stock options."
   ]
  },
  {
   "cell_type": "markdown",
   "metadata": {},
   "source": [
    "<b>Assumptions of the Black-Scholes-Merton Model</b>\n",
    "- <b>Lognormal distribution:</b> The Black-Scholes-Merton model assumes that stock prices follow a lognormal distribution based on the principle that asset prices cannot take a negative value; they are bounded by zero.\n",
    "- <b>No dividends:</b> The BSM model assumes that the stocks do not pay any dividends or returns.\n",
    "- <b>Expiration date:</b> The model assumes that the options can only be exercised on its expiration or maturity date. Hence, it does not accurately price American options. It is extensively used in the European options market.\n",
    "- <b>Random walk:</b> The stock market is a highly volatile one, and hence, a state of random walk is assumed as the market direction can never truly be predicted.\n",
    "- <b>Frictionless market:</b> No transaction costs, including commission and brokerage, is assumed in the BSM model.\n",
    "- <b>Risk-free interest rate:</b> The interest rates are assumed to be constant, hence making the underlying asset a risk-free one.\n",
    "- <b>Normal distribution:</b> Stock returns are normally distributed. It implies that the volatility of the market is constant over time.\n",
    "- <b>No arbitrage:</b> There is no arbitrage. It avoids the opportunity of making a riskless profit.\n",
    " "
   ]
  },
  {
   "cell_type": "markdown",
   "metadata": {},
   "source": [
    "<b>The formula</b>\n",
    "![bsf_compressed.jpg](bsf_compressed.jpg)"
   ]
  },
  {
   "cell_type": "markdown",
   "metadata": {},
   "source": [
    "$Nd_{2}$ - is the probability that the call will be exercised, so $$\\frac{E}{e^{rT}}\\cdot Nd_{2} $$ is what you expect to pay if you exercise the option, discounted to today.<br>\n",
    "In the equation $$S\\cdot Nd_{1}$$ is what you can expect to receive from selling the stock, if the option has been exercised, also discounted to today."
   ]
  },
  {
   "cell_type": "markdown",
   "metadata": {},
   "source": [
    "$d_{1}$ and $d_{2}$ depend on the assumptions we have made about how the stock price evolves over time, the elements in the option contract (the stock price, exercise price and time to maturity) and the other inputs – the risk-free rate and the volatility of returns. The probabilities in the Black-Scholes model are functions of $d_{1}$ and $d_{2}$ <br>\n",
    "If you know $d_{1}$ and $d_{2}$, then you can find out what $N d_{1}$ and $N d_{2}$ are from the standard normal distribution table (these are the probabilities corresponding to observing values less than $d_{1}$ and $d_{2}$ , respectively). With these probabilities you can then use the Black-Scholes model to obtain the option value, $C$"
   ]
  },
  {
   "cell_type": "markdown",
   "metadata": {},
   "source": [
    "<b>Phase 1:</b>\n",
    "- Import the necessary libraries\n",
    "- Download the data for Microsoft (‘MSFT’) from Yahoo Finance for the period ‘2000-1-1’ until today."
   ]
  },
  {
   "cell_type": "code",
   "execution_count": 1,
   "metadata": {},
   "outputs": [
    {
     "name": "stdout",
     "output_type": "stream",
     "text": [
      "[*********************100%***********************]  1 of 1 completed\n"
     ]
    }
   ],
   "source": [
    "import numpy as np\n",
    "import pandas as pd\n",
    "import yfinance as yf\n",
    "from scipy.stats import norm\n",
    "\n",
    "ticker = 'MSFT'  \n",
    "data = pd.DataFrame()  \n",
    "data[ticker] = yf.download(ticker, start='2000-1-1')['Adj Close']"
   ]
  },
  {
   "cell_type": "code",
   "execution_count": 2,
   "metadata": {},
   "outputs": [
    {
     "data": {
      "text/html": [
       "<div>\n",
       "<style scoped>\n",
       "    .dataframe tbody tr th:only-of-type {\n",
       "        vertical-align: middle;\n",
       "    }\n",
       "\n",
       "    .dataframe tbody tr th {\n",
       "        vertical-align: top;\n",
       "    }\n",
       "\n",
       "    .dataframe thead th {\n",
       "        text-align: right;\n",
       "    }\n",
       "</style>\n",
       "<table border=\"1\" class=\"dataframe\">\n",
       "  <thead>\n",
       "    <tr style=\"text-align: right;\">\n",
       "      <th></th>\n",
       "      <th>MSFT</th>\n",
       "    </tr>\n",
       "    <tr>\n",
       "      <th>Date</th>\n",
       "      <th></th>\n",
       "    </tr>\n",
       "  </thead>\n",
       "  <tbody>\n",
       "    <tr>\n",
       "      <th>2021-06-07</th>\n",
       "      <td>253.809998</td>\n",
       "    </tr>\n",
       "    <tr>\n",
       "      <th>2021-06-08</th>\n",
       "      <td>252.570007</td>\n",
       "    </tr>\n",
       "    <tr>\n",
       "      <th>2021-06-09</th>\n",
       "      <td>253.589996</td>\n",
       "    </tr>\n",
       "    <tr>\n",
       "      <th>2021-06-10</th>\n",
       "      <td>257.239990</td>\n",
       "    </tr>\n",
       "    <tr>\n",
       "      <th>2021-06-11</th>\n",
       "      <td>257.890015</td>\n",
       "    </tr>\n",
       "  </tbody>\n",
       "</table>\n",
       "</div>"
      ],
      "text/plain": [
       "                  MSFT\n",
       "Date                  \n",
       "2021-06-07  253.809998\n",
       "2021-06-08  252.570007\n",
       "2021-06-09  253.589996\n",
       "2021-06-10  257.239990\n",
       "2021-06-11  257.890015"
      ]
     },
     "execution_count": 2,
     "metadata": {},
     "output_type": "execute_result"
    }
   ],
   "source": [
    "data.tail()"
   ]
  },
  {
   "cell_type": "markdown",
   "metadata": {},
   "source": [
    "<b>Phase 2: </b>\n",
    "- Define functions for $d_{1}$, $d_{2}$ and BSM (also referred as Black Scholes Model)"
   ]
  },
  {
   "cell_type": "code",
   "execution_count": 3,
   "metadata": {},
   "outputs": [],
   "source": [
    "def d1(S, K, r, stdev, T):\n",
    "    return (np.log(S / K) + (r + stdev ** 2 / 2) * T) / (stdev * np.sqrt(T))\n",
    " \n",
    "def d2(S, K, r, stdev, T):\n",
    "    return (np.log(S / K) + (r - stdev ** 2 / 2) * T) / (stdev * np.sqrt(T))\n",
    "\n",
    "def BSM(S, K, r, stdev, T):\n",
    "        return (S * norm.cdf(d1(S, K, r, stdev, T))) - (K * np.exp(-r * T) * norm.cdf(d2(S, K, r, stdev, T)))"
   ]
  },
  {
   "cell_type": "markdown",
   "metadata": {},
   "source": [
    "Store the annual standard deviation of the log returns in a variable, called “stdev”."
   ]
  },
  {
   "cell_type": "code",
   "execution_count": 4,
   "metadata": {},
   "outputs": [],
   "source": [
    "log_returns = np.log(data/data.shift(1))"
   ]
  },
  {
   "cell_type": "code",
   "execution_count": 5,
   "metadata": {},
   "outputs": [],
   "source": [
    "stdev = log_returns.std() * 250**0.5"
   ]
  },
  {
   "cell_type": "code",
   "execution_count": 6,
   "metadata": {},
   "outputs": [
    {
     "data": {
      "text/plain": [
       "MSFT    0.306666\n",
       "dtype: float64"
      ]
     },
     "execution_count": 6,
     "metadata": {},
     "output_type": "execute_result"
    }
   ],
   "source": [
    "stdev"
   ]
  },
  {
   "cell_type": "markdown",
   "metadata": {},
   "source": [
    "<b> Phase 3: </b>\n",
    "- Define r, K & T\n",
    "- Call the functions d1, d2, & BSM passing the appropriate parameters"
   ]
  },
  {
   "cell_type": "markdown",
   "metadata": {},
   "source": [
    "Set the risk free rate, r, equal to 2.5% (0.025); the strike price, K, equal to 280.0; and the time horizon, T, equal to 1, respectively."
   ]
  },
  {
   "cell_type": "code",
   "execution_count": 7,
   "metadata": {},
   "outputs": [],
   "source": [
    "r = 0.025\n",
    "K = 280.0\n",
    "T = 1"
   ]
  },
  {
   "cell_type": "markdown",
   "metadata": {},
   "source": [
    "Create a variable S equal to the last adjusted closing price of Microsoft. Use the “iloc” method."
   ]
  },
  {
   "cell_type": "code",
   "execution_count": 8,
   "metadata": {},
   "outputs": [],
   "source": [
    "S = data.iloc[-1]"
   ]
  },
  {
   "cell_type": "markdown",
   "metadata": {},
   "source": [
    "Call the d1 and d2 functions with the relevant arguments to obtain their values."
   ]
  },
  {
   "cell_type": "code",
   "execution_count": 9,
   "metadata": {},
   "outputs": [
    {
     "data": {
      "text/plain": [
       "MSFT   -0.033373\n",
       "dtype: float64"
      ]
     },
     "execution_count": 9,
     "metadata": {},
     "output_type": "execute_result"
    }
   ],
   "source": [
    "d1(S, K, r, stdev, T)"
   ]
  },
  {
   "cell_type": "code",
   "execution_count": 10,
   "metadata": {},
   "outputs": [
    {
     "data": {
      "text/plain": [
       "MSFT   -0.340039\n",
       "dtype: float64"
      ]
     },
     "execution_count": 10,
     "metadata": {},
     "output_type": "execute_result"
    }
   ],
   "source": [
    "d2(S, K, r, stdev, T)"
   ]
  },
  {
   "cell_type": "markdown",
   "metadata": {},
   "source": [
    "Use the BSM function to estimate the price of a call option, given you know the values of S, K, r, stdev, and T."
   ]
  },
  {
   "cell_type": "code",
   "execution_count": 11,
   "metadata": {},
   "outputs": [
    {
     "data": {
      "text/plain": [
       "MSFT    25.312882\n",
       "Name: 2021-06-11 00:00:00, dtype: float64"
      ]
     },
     "execution_count": 11,
     "metadata": {},
     "output_type": "execute_result"
    }
   ],
   "source": [
    "BSM(S, K, r, stdev, T)"
   ]
  },
  {
   "cell_type": "markdown",
   "metadata": {},
   "source": [
    "<b>Verifying Results with an online calculator</b>"
   ]
  },
  {
   "cell_type": "markdown",
   "metadata": {},
   "source": [
    "![BSM.png](BSM.png)"
   ]
  },
  {
   "cell_type": "markdown",
   "metadata": {},
   "source": [
    "- <b>The calculated value of BSM 25.31 roughly matches with the value of online calculator i.e 25.16 </b>\n",
    "- Hence, the model is producing reliable results \n",
    "- Source - https://zerodha.com/tools/black-scholes/"
   ]
  },
  {
   "cell_type": "markdown",
   "metadata": {},
   "source": [
    "<b>Limitations of the Black-Scholes-Merton Model</b>\n",
    "- <b>Limited to the European market:</b> As mentioned earlier, the Black-Scholes-Merton model is an accurate determinant of European option prices. It does not accurately value stock options in the US. It is because it assumes that options can only be exercised on its expiration/maturity date.<br><br>\n",
    "- <b>Risk-free interest rates:</b> The BSM model assumes constant interest rates, but it is hardly ever the reality.<br><br>\n",
    "- <b>Assumption of a frictionless market:</b> Trading generally comes with transaction costs such as brokerage fees, commission, etc. However, the Black Scholes Merton model assumes a frictionless market, which means that there are no transaction costs. It is hardly ever the reality in the trading market.<br><br>\n",
    "- <b>No returns:</b> The BSM model assumes that there are no returns associated with the stock options. There are no dividends and no interest earnings. However, it is not the case in the actual trading market. The buying and selling of options are primarily focused on the returns."
   ]
  },
  {
   "cell_type": "markdown",
   "metadata": {},
   "source": [
    "References:\n",
    "- https://www.futurelearn.com/info/courses/risk-management/0/steps/39298\n",
    "- https://corporatefinanceinstitute.com/resources/knowledge/trading-investing/black-scholes-merton-model/\n"
   ]
  }
 ],
 "metadata": {
  "kernelspec": {
   "display_name": "Python 3",
   "language": "python",
   "name": "python3"
  },
  "language_info": {
   "codemirror_mode": {
    "name": "ipython",
    "version": 3
   },
   "file_extension": ".py",
   "mimetype": "text/x-python",
   "name": "python",
   "nbconvert_exporter": "python",
   "pygments_lexer": "ipython3",
   "version": "3.7.6"
  }
 },
 "nbformat": 4,
 "nbformat_minor": 2
}
